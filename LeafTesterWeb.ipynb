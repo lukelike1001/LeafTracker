{
 "cells": [
  {
   "cell_type": "markdown",
   "metadata": {},
   "source": [
    "### **LeafTracker Interactive Model**\n",
    "This Jupyter notebook allows for experimentation with the LeafTracker model! The last Python module shows a demonstration of how the model works, and the other modules are there to prepare the model."
   ]
  },
  {
   "cell_type": "markdown",
   "metadata": {},
   "source": [
    "**Importing Libraries**"
   ]
  },
  {
   "cell_type": "code",
   "execution_count": 1,
   "metadata": {},
   "outputs": [],
   "source": [
    "# import library dependencies, tested on python 3.9.6\n",
    "import matplotlib.pyplot as plt\n",
    "import numpy as np\n",
    "import tensorflow as tf\n",
    "from tensorflow import keras"
   ]
  },
  {
   "cell_type": "markdown",
   "metadata": {},
   "source": [
    "**Loading the Model**<br>\n",
    "I load the model from a set directory and print a summary to visualize how it works."
   ]
  },
  {
   "cell_type": "code",
   "execution_count": 4,
   "metadata": {},
   "outputs": [],
   "source": [
    "# load the pre-trained model from the appropriate file path\n",
    "url = \"https://github.com/lukelike1001/LeafTracker/blob/main/saved_model/model.tflite?raw=true\"\n",
    "model = tf.keras.models.load_model('saved_model/my_model')\n",
    "model.summary()"
   ]
  },
  {
   "cell_type": "markdown",
   "metadata": {},
   "source": [
    "**Model Variables**<br>\n",
    "Here, I take key variables (for example, img_height, and batch_size) to make sure the image identification model can identify images. I also remake the training and validation datasets to find the classes."
   ]
  },
  {
   "cell_type": "code",
   "execution_count": 5,
   "metadata": {},
   "outputs": [
    {
     "name": "stdout",
     "output_type": "stream",
     "text": [
      "Found 9952 files belonging to 10 classes.\n",
      "Using 7962 files for training.\n",
      "Found 9952 files belonging to 10 classes.\n",
      "Using 7962 files for training.\n"
     ]
    }
   ],
   "source": [
    "# redefine values from the model\n",
    "data_dir = \"tpc-imgs/\"\n",
    "img_height = img_width = 180\n",
    "batch_size = 32\n",
    "\n",
    "# remake the training dataset\n",
    "train_ds = tf.keras.utils.image_dataset_from_directory(\n",
    "  data_dir,\n",
    "  validation_split=0.2,\n",
    "  subset=\"training\",\n",
    "  seed=123,\n",
    "  image_size=(img_height, img_width),\n",
    "  batch_size=batch_size)\n",
    "\n",
    "# remake the validation dataset\n",
    "val_ds = tf.keras.utils.image_dataset_from_directory(\n",
    "  data_dir,\n",
    "  validation_split=0.2,\n",
    "  subset=\"training\",\n",
    "  seed=123,\n",
    "  image_size=(img_height, img_width),\n",
    "  batch_size=batch_size)\n",
    "\n",
    "# find the class names\n",
    "class_names = train_ds.class_names"
   ]
  },
  {
   "cell_type": "markdown",
   "metadata": {},
   "source": [
    "**Image Identification**<br>\n",
    "Here, the model takes in an image URL and identifies the top three likeliest possibilities. Feel free to tweak the URL to determine the model's accuracy!"
   ]
  },
  {
   "cell_type": "code",
   "execution_count": 6,
   "metadata": {},
   "outputs": [
    {
     "ename": "AttributeError",
     "evalue": "'Interpreter' object has no attribute 'predict'",
     "output_type": "error",
     "traceback": [
      "\u001b[1;31m---------------------------------------------------------------------------\u001b[0m",
      "\u001b[1;31mAttributeError\u001b[0m                            Traceback (most recent call last)",
      "\u001b[1;32mc:\\Users\\lukel\\OneDrive\\Desktop\\Github Projects\\LeafTracker\\LeafTesterWeb.ipynb Cell 9\u001b[0m in \u001b[0;36m<cell line: 19>\u001b[1;34m()\u001b[0m\n\u001b[0;32m     <a href='vscode-notebook-cell:/c%3A/Users/lukel/OneDrive/Desktop/Github%20Projects/LeafTracker/LeafTesterWeb.ipynb#X11sZmlsZQ%3D%3D?line=15'>16</a>\u001b[0m img_array \u001b[39m=\u001b[39m tf\u001b[39m.\u001b[39mexpand_dims(img_array, \u001b[39m0\u001b[39m)\n\u001b[0;32m     <a href='vscode-notebook-cell:/c%3A/Users/lukel/OneDrive/Desktop/Github%20Projects/LeafTracker/LeafTesterWeb.ipynb#X11sZmlsZQ%3D%3D?line=17'>18</a>\u001b[0m \u001b[39m# find the top three likeliest plants based on probabilities\u001b[39;00m\n\u001b[1;32m---> <a href='vscode-notebook-cell:/c%3A/Users/lukel/OneDrive/Desktop/Github%20Projects/LeafTracker/LeafTesterWeb.ipynb#X11sZmlsZQ%3D%3D?line=18'>19</a>\u001b[0m predictions \u001b[39m=\u001b[39m model\u001b[39m.\u001b[39;49mpredict(img_array)\n\u001b[0;32m     <a href='vscode-notebook-cell:/c%3A/Users/lukel/OneDrive/Desktop/Github%20Projects/LeafTracker/LeafTesterWeb.ipynb#X11sZmlsZQ%3D%3D?line=19'>20</a>\u001b[0m score \u001b[39m=\u001b[39m tf\u001b[39m.\u001b[39mnn\u001b[39m.\u001b[39msoftmax(predictions[\u001b[39m0\u001b[39m])\n\u001b[0;32m     <a href='vscode-notebook-cell:/c%3A/Users/lukel/OneDrive/Desktop/Github%20Projects/LeafTracker/LeafTesterWeb.ipynb#X11sZmlsZQ%3D%3D?line=20'>21</a>\u001b[0m top_three \u001b[39m=\u001b[39m np\u001b[39m.\u001b[39marray(score)\u001b[39m.\u001b[39margsort()[\u001b[39m-\u001b[39m\u001b[39m3\u001b[39m:][::\u001b[39m-\u001b[39m\u001b[39m1\u001b[39m]\n",
      "\u001b[1;31mAttributeError\u001b[0m: 'Interpreter' object has no attribute 'predict'"
     ]
    }
   ],
   "source": [
    "# take an image to use for testing\n",
    "# feel free to switch the url for experimentation!\n",
    "url = \"https://mbgna.umich.edu/wp-content/uploads/2021/03/JITP-berries-Chesapeake-Conservation-Landing.jpg\"\n",
    "# url = \"http://extension.msstate.edu/sites/default/files/publication-images/IS0642/poisonivy1.jpg\"\n",
    "# url = \"https://extension.illinois.edu/photolib/lib17//inset/shrubs105a.jpg\"\n",
    "\n",
    "path = tf.keras.utils.get_file(origin=url)\n",
    "\n",
    "# load the image into a variable\n",
    "img = tf.keras.utils.load_img(\n",
    "    path, target_size=(img_height, img_width)\n",
    ")\n",
    "\n",
    "# convert the image into a tensor and create a batch for testing\n",
    "img_array = tf.keras.utils.img_to_array(img)\n",
    "img_array = tf.expand_dims(img_array, 0)\n",
    "\n",
    "# find the top three likeliest plants based on probabilities\n",
    "predictions = model.predict(img_array)\n",
    "score = tf.nn.softmax(predictions[0])\n",
    "top_three = np.array(score).argsort()[-3:][::-1]\n",
    "numpy_array = score.numpy()\n",
    "\n",
    "# convert the folder names into English words then print the three likeliest probabilities\n",
    "for i in top_three:\n",
    "    words = class_names[i].split(\"_\")\n",
    "    name = \" \".join([word.capitalize() for word in words])\n",
    "    print(\n",
    "        \"This image likely belongs to {} with {:.2f}% confidence.\"\n",
    "        .format(name, 100 * numpy_array[i])\n",
    "    )"
   ]
  }
 ],
 "metadata": {
  "kernelspec": {
   "display_name": "Python 3",
   "language": "python",
   "name": "python3"
  },
  "language_info": {
   "codemirror_mode": {
    "name": "ipython",
    "version": 3
   },
   "file_extension": ".py",
   "mimetype": "text/x-python",
   "name": "python",
   "nbconvert_exporter": "python",
   "pygments_lexer": "ipython3",
   "version": "3.9.6"
  },
  "orig_nbformat": 4
 },
 "nbformat": 4,
 "nbformat_minor": 2
}
